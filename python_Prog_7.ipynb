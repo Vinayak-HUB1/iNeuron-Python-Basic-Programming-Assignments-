{
 "cells": [
  {
   "cell_type": "code",
   "execution_count": 1,
   "id": "2ebe57c1",
   "metadata": {},
   "outputs": [
    {
     "data": {
      "text/plain": [
       "15"
      ]
     },
     "execution_count": 1,
     "metadata": {},
     "output_type": "execute_result"
    }
   ],
   "source": [
    "#1.\n",
    "array = [1,2,3,4,5]\n",
    "def array_sum(array):\n",
    "    sum=0\n",
    "    for i in array:\n",
    "         sum=sum+i\n",
    "    return (sum)\n",
    "\n",
    "array_sum(array)"
   ]
  },
  {
   "cell_type": "code",
   "execution_count": 3,
   "id": "50df1e1c",
   "metadata": {},
   "outputs": [
    {
     "name": "stdout",
     "output_type": "stream",
     "text": [
      "5\n"
     ]
    }
   ],
   "source": [
    "#2.\n",
    "max = array[0]\n",
    "\n",
    "for i in range(0,len(array)):\n",
    "    if (array[i] > max):\n",
    "        max=array[i]\n",
    "print(max)\n",
    "\n"
   ]
  },
  {
   "cell_type": "code",
   "execution_count": 5,
   "id": "50229631",
   "metadata": {},
   "outputs": [
    {
     "name": "stdout",
     "output_type": "stream",
     "text": [
      "[23, 90, 56, 45, 12, 45, 54]\n"
     ]
    }
   ],
   "source": [
    "#3.\n",
    "Arr = [12,45,54,23,90,56,45]\n",
    "\n",
    "\n",
    "def rotatearray(array,d,n):\n",
    "    temp = []\n",
    "    temp =  (array[d:n])+(array[0:d])\n",
    "    print(temp)\n",
    "    \n",
    "rotatearray(Arr, 3,len(Arr))"
   ]
  },
  {
   "cell_type": "code",
   "execution_count": 7,
   "id": "2ca0b3c4",
   "metadata": {},
   "outputs": [
    {
     "name": "stdout",
     "output_type": "stream",
     "text": [
      "[12, 45, 54, 23, 90, 56, 45]\n",
      "[23, 90, 56, 45]\n",
      "[12, 45, 54]\n",
      "[23, 90, 56, 45, 12, 45, 54]\n"
     ]
    }
   ],
   "source": [
    "#4.\n",
    "Arr = [12,45,54,23,90,56,45]\n",
    "\n",
    "def splitarray(array,n):\n",
    "    temp = []\n",
    "    temp = Arr[3:n]\n",
    "    temp1 = Arr[0:3]\n",
    "    print(Arr)\n",
    "    print(temp)\n",
    "    print(temp1)\n",
    "    new_temp = temp + temp1\n",
    "    print(new_temp)\n",
    "    \n",
    "splitarray(Arr,len(Arr))"
   ]
  },
  {
   "cell_type": "code",
   "execution_count": 9,
   "id": "8a4d91ba",
   "metadata": {},
   "outputs": [
    {
     "name": "stdout",
     "output_type": "stream",
     "text": [
      "False\n"
     ]
    }
   ],
   "source": [
    "#5.\n",
    "def isMonotonic(A):\n",
    "    return (all(A[i] <= A[i + 1] for i in range(len(A) - 1)) or\n",
    "            all(A[i] >= A[i + 1] for i in range(len(A) - 1)))\n",
    "A = [65,34,23,17,83]\n",
    "\n",
    "print(isMonotonic(A))"
   ]
  },
  {
   "cell_type": "code",
   "execution_count": null,
   "id": "f9d4e412",
   "metadata": {},
   "outputs": [],
   "source": []
  }
 ],
 "metadata": {
  "kernelspec": {
   "display_name": "Python 3",
   "language": "python",
   "name": "python3"
  },
  "language_info": {
   "codemirror_mode": {
    "name": "ipython",
    "version": 3
   },
   "file_extension": ".py",
   "mimetype": "text/x-python",
   "name": "python",
   "nbconvert_exporter": "python",
   "pygments_lexer": "ipython3",
   "version": "3.8.5"
  }
 },
 "nbformat": 4,
 "nbformat_minor": 5
}
