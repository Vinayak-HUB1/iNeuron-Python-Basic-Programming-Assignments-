{
 "cells": [
  {
   "cell_type": "code",
   "execution_count": 1,
   "id": "ae3e4275",
   "metadata": {},
   "outputs": [
    {
     "data": {
      "text/plain": [
       "15"
      ]
     },
     "execution_count": 1,
     "metadata": {},
     "output_type": "execute_result"
    }
   ],
   "source": [
    "#1.\n",
    "List = [1,2,3,4,5]\n",
    "def sum_of_list(list):\n",
    "    sum = 0\n",
    "    for i in range(len(list)):\n",
    "        sum = sum + list[i]\n",
    "    return sum\n",
    "sum_of_list(List)"
   ]
  },
  {
   "cell_type": "code",
   "execution_count": 2,
   "id": "f007b968",
   "metadata": {},
   "outputs": [
    {
     "name": "stdout",
     "output_type": "stream",
     "text": [
      "120\n"
     ]
    }
   ],
   "source": [
    "#2.\n",
    "multiplication = 1\n",
    "for i in List:\n",
    "    multiplication = multiplication * i\n",
    "print(multiplication)\n",
    "        \n",
    "\n",
    "        \n",
    "    "
   ]
  },
  {
   "cell_type": "code",
   "execution_count": 3,
   "id": "3b18cedb",
   "metadata": {},
   "outputs": [
    {
     "name": "stdout",
     "output_type": "stream",
     "text": [
      "1\n"
     ]
    }
   ],
   "source": [
    "#3.\n",
    "min = List[0]\n",
    "for i in range (len(List)):\n",
    "    if  List[i] < List[0]:  \n",
    "        min = List[i]\n",
    "print(min)\n",
    "    \n",
    "    "
   ]
  },
  {
   "cell_type": "code",
   "execution_count": 4,
   "id": "bbdbf16d",
   "metadata": {},
   "outputs": [
    {
     "name": "stdout",
     "output_type": "stream",
     "text": [
      "5\n"
     ]
    }
   ],
   "source": [
    "#4.\n",
    "\n",
    "max = List[0]\n",
    "for i in range(len(List)):\n",
    "    if List[i] > max:\n",
    "        max = List[i]\n",
    "\n",
    "    \n",
    "print(max)\n"
   ]
  },
  {
   "cell_type": "code",
   "execution_count": 5,
   "id": "657aa6ad",
   "metadata": {},
   "outputs": [
    {
     "name": "stdout",
     "output_type": "stream",
     "text": [
      "45\n"
     ]
    }
   ],
   "source": [
    "#5.\n",
    "list1 = [10, 20, 4, 45, 99]\n",
    "list1.sort()\n",
    "print(list1[-2])\n",
    "\n"
   ]
  },
  {
   "cell_type": "code",
   "execution_count": 6,
   "id": "2173329b",
   "metadata": {},
   "outputs": [
    {
     "name": "stdout",
     "output_type": "stream",
     "text": [
      "[298, 900, 1000, 3579]\n"
     ]
    }
   ],
   "source": [
    "#6.\n",
    "l = [1000,298,3579,100,200,-45,900]\n",
    "n = 4\n",
    "l.sort()\n",
    "print(l[-n:])\n"
   ]
  },
  {
   "cell_type": "code",
   "execution_count": 7,
   "id": "1b870f4b",
   "metadata": {},
   "outputs": [
    {
     "name": "stdout",
     "output_type": "stream",
     "text": [
      "12 14 16 "
     ]
    }
   ],
   "source": [
    "#7.\n",
    "List = [12,13,14,15,16,17]\n",
    "for num in List:\n",
    "     if num % 2 == 0:\n",
    "             print(num, end = \" \")\n",
    "        \n",
    "        "
   ]
  },
  {
   "cell_type": "code",
   "execution_count": 8,
   "id": "8b256b34",
   "metadata": {},
   "outputs": [
    {
     "name": "stdout",
     "output_type": "stream",
     "text": [
      "13 15 17 "
     ]
    }
   ],
   "source": [
    "#8.\n",
    "for num in List:\n",
    "     if num % 2 != 0:\n",
    "             print(num, end = \" \")\n"
   ]
  },
  {
   "cell_type": "code",
   "execution_count": 11,
   "id": "569e561c",
   "metadata": {},
   "outputs": [
    {
     "name": "stdout",
     "output_type": "stream",
     "text": [
      "[1, 2, 3, 4, 9, 8, 7, 10]\n"
     ]
    }
   ],
   "source": [
    "#9.\n",
    "list1 = [1,2,3,4,[],9,8,7,10]\n",
    "for i in list1:\n",
    "    if type(i) != int:\n",
    "        list1.remove(i)\n",
    "        print(list1)\n",
    "    "
   ]
  },
  {
   "cell_type": "code",
   "execution_count": 14,
   "id": "ef5f911c",
   "metadata": {},
   "outputs": [
    {
     "data": {
      "text/plain": [
       "[1, 2, 3, 4, 9, 8, 7, 10]"
      ]
     },
     "execution_count": 14,
     "metadata": {},
     "output_type": "execute_result"
    }
   ],
   "source": [
    "#10.\n",
    "Copied_list = list1.copy()\n",
    "Copied_list"
   ]
  },
  {
   "cell_type": "code",
   "execution_count": 20,
   "id": "1172ce3c",
   "metadata": {},
   "outputs": [
    {
     "data": {
      "text/plain": [
       "3"
      ]
     },
     "execution_count": 20,
     "metadata": {},
     "output_type": "execute_result"
    }
   ],
   "source": [
    "#11.\n",
    "List_new = [11,2,2,2,3,5,6,7,7,7,8,9,10]\n",
    "def counter(list,x):\n",
    "    count = 0\n",
    "    for i in list:\n",
    "        if i == x:\n",
    "            count = count + 1\n",
    "    return count\n",
    "\n",
    "counter(List_new,7)\n",
    "        "
   ]
  },
  {
   "cell_type": "code",
   "execution_count": null,
   "id": "fdb0bbbe",
   "metadata": {},
   "outputs": [],
   "source": []
  }
 ],
 "metadata": {
  "kernelspec": {
   "display_name": "Python 3",
   "language": "python",
   "name": "python3"
  },
  "language_info": {
   "codemirror_mode": {
    "name": "ipython",
    "version": 3
   },
   "file_extension": ".py",
   "mimetype": "text/x-python",
   "name": "python",
   "nbconvert_exporter": "python",
   "pygments_lexer": "ipython3",
   "version": "3.8.5"
  }
 },
 "nbformat": 4,
 "nbformat_minor": 5
}
