{
 "cells": [
  {
   "cell_type": "code",
   "execution_count": 11,
   "source": [
    "#1.\r\n",
    "def func(x,y,n):\r\n",
    "    for i in range(x,y):\r\n",
    "        for j in range(1,n):\r\n",
    "            no = i/j\r\n",
    "            return no*3\r\n",
    "\r\n",
    "func(1,10,3)"
   ],
   "outputs": [
    {
     "output_type": "execute_result",
     "data": {
      "text/plain": [
       "13.5"
      ]
     },
     "metadata": {},
     "execution_count": 11
    }
   ],
   "metadata": {}
  },
  {
   "cell_type": "code",
   "execution_count": 16,
   "source": [
    "#2.\r\n",
    "def common_data(list1, list2):\r\n",
    "     result = False\r\n",
    "     for x in list1:\r\n",
    "         for y in list2:\r\n",
    "             if x == y:\r\n",
    "                 result = True\r\n",
    "                 return result\r\n",
    "print(common_data([1,2,3,4,5], [5,6,7,8,9]))\r\n"
   ],
   "outputs": [
    {
     "output_type": "stream",
     "name": "stdout",
     "text": [
      "True\n"
     ]
    }
   ],
   "metadata": {}
  },
  {
   "cell_type": "code",
   "execution_count": 20,
   "source": [
    "#3.\r\n",
    "\r\n",
    "def firstLetterWord(str):\r\n",
    "\r\n",
    "\tresult = \"\"\r\n",
    "\r\n",
    "\tv = True\r\n",
    "\tfor i in range(len(str)):\r\n",
    "\t\t\r\n",
    "\t\tif (str[i] == ' '):\r\n",
    "\t\t\tv = True\r\n",
    "\r\n",
    "\t\t\r\n",
    "\t\telif (str[i] != ' ' and v == True):\r\n",
    "\t\t\tresult += (str[i])\r\n",
    "\t\t\tv = False\r\n",
    "\r\n",
    "\treturn result\r\n",
    "\r\n",
    "if __name__ == \"__main__\":\r\n",
    "\t\r\n",
    "\tstr = \"Hellow world\"\r\n",
    "\tprint(firstLetterWord(str))\r\n",
    "\r\n",
    "\r\n",
    "firstLetterWord(str)\r\n",
    "\r\n",
    "\r\n"
   ],
   "outputs": [
    {
     "output_type": "stream",
     "name": "stdout",
     "text": [
      "Hw\n"
     ]
    },
    {
     "output_type": "execute_result",
     "data": {
      "text/plain": [
       "'Hw'"
      ]
     },
     "metadata": {},
     "execution_count": 20
    }
   ],
   "metadata": {}
  },
  {
   "cell_type": "code",
   "execution_count": 22,
   "source": [
    "#4.\r\n",
    "def is_isogram(word):\r\n",
    "\r\n",
    "\tclean_word = word.lower()\r\n",
    "\r\n",
    "\tletter_list = []\r\n",
    "\r\n",
    "\tfor letter in clean_word:\r\n",
    "\r\n",
    "\t\tif letter.isalpha():\r\n",
    "\t\t\tif letter in letter_list:\r\n",
    "\t\t\t\treturn False\r\n",
    "\t\t\tletter_list.append(letter)\r\n",
    "\r\n",
    "\treturn True\r\n",
    "\r\n",
    "if __name__ == '__main__':\r\n",
    "\tprint(is_isogram(\"Machine\"))\t\t\t\t\t\t\t\r\n",
    "\tprint(is_isogram(\"isogram\"))\t\t\t\t\t\t\r\n",
    "\tprint(is_isogram(\"Ineuron\"))\t\t\t\t\t\r\n",
    "\tprint(is_isogram(\"Alphabet \"))\t\t\t\t\t\t\t\t\t\t\t\r\n"
   ],
   "outputs": [
    {
     "output_type": "stream",
     "name": "stdout",
     "text": [
      "True\n",
      "True\n",
      "False\n",
      "False\n"
     ]
    }
   ],
   "metadata": {}
  },
  {
   "cell_type": "code",
   "execution_count": 23,
   "source": [
    "#5.\r\n",
    "def isAlphabaticOrder(s):\r\n",
    "\t\r\n",
    "\t\r\n",
    "\tn = len(s)\r\n",
    "\r\n",
    "\t\r\n",
    "\tc = [s[i] for i in range(len(s))]\r\n",
    "\r\n",
    "\t\r\n",
    "\tc.sort(reverse = False)\r\n",
    "\r\n",
    "\t\r\n",
    "\tfor i in range(n):\r\n",
    "\t\tif (c[i] != s[i]):\r\n",
    "\t\t\treturn False\r\n",
    "\t\t\r\n",
    "\treturn True\r\n",
    "\r\n",
    "if __name__ == '__main__':\r\n",
    "\ts = \"aabbbcc\"\r\n",
    "\r\n",
    "\t\r\n",
    "\tif (isAlphabaticOrder(s)):\r\n",
    "\t\tprint(\"Yes\")\r\n",
    "\telse:\r\n",
    "\t\tprint(\"No\")\r\n",
    "\r\n",
    "\r\n"
   ],
   "outputs": [
    {
     "output_type": "stream",
     "name": "stdout",
     "text": [
      "Yes\n"
     ]
    }
   ],
   "metadata": {}
  },
  {
   "cell_type": "code",
   "execution_count": null,
   "source": [],
   "outputs": [],
   "metadata": {}
  }
 ],
 "metadata": {
  "orig_nbformat": 4,
  "language_info": {
   "name": "python",
   "version": "3.8.11",
   "mimetype": "text/x-python",
   "codemirror_mode": {
    "name": "ipython",
    "version": 3
   },
   "pygments_lexer": "ipython3",
   "nbconvert_exporter": "python",
   "file_extension": ".py"
  },
  "kernelspec": {
   "name": "python3",
   "display_name": "Python 3.8.11 64-bit ('base': conda)"
  },
  "interpreter": {
   "hash": "c58d10f40f0b856b9f76130d9ed183997b07a9ef1518b907aa0aba494584eb5b"
  }
 },
 "nbformat": 4,
 "nbformat_minor": 2
}