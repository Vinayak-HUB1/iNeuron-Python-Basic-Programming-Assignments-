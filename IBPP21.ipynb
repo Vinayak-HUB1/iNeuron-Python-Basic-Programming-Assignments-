{
 "cells": [
  {
   "cell_type": "code",
   "execution_count": 8,
   "source": [
    "#1.\r\n",
    "def List(List,number):\r\n",
    "    List.pop(0)\r\n",
    "    List.append(number)\r\n",
    "    return List\r\n",
    "\r\n",
    "List([1,2,3],6)"
   ],
   "outputs": [
    {
     "output_type": "execute_result",
     "data": {
      "text/plain": [
       "[2, 3, 6]"
      ]
     },
     "metadata": {},
     "execution_count": 8
    }
   ],
   "metadata": {}
  },
  {
   "cell_type": "code",
   "execution_count": 9,
   "source": [
    "#3.\r\n",
    "\r\n",
    "def sortString(str):\r\n",
    "\treturn ''.join(sorted(str))\r\n",
    "\t\r\n",
    "# Driver code\r\n",
    "str = 'PYTHON'\r\n",
    "print(sortString(str))\r\n"
   ],
   "outputs": [
    {
     "output_type": "stream",
     "name": "stdout",
     "text": [
      "HNOPTY\n"
     ]
    }
   ],
   "metadata": {}
  },
  {
   "cell_type": "code",
   "execution_count": 10,
   "source": [
    "#4.\r\n",
    "\r\n",
    "\r\n",
    "def compound_interest(principle, rate, time):\r\n",
    "\r\n",
    "\t# Calculates compound interest\r\n",
    "\tAmount = principle * (pow((1 + rate / 100), time))\r\n",
    "\tCI = Amount - principle\r\n",
    "\tprint(\"Compound interest is\", CI)\r\n",
    "\r\n",
    "\r\n",
    "compound_interest(10000, 10.25, 5)\r\n",
    "\r\n",
    "\r\n"
   ],
   "outputs": [
    {
     "output_type": "stream",
     "name": "stdout",
     "text": [
      "Compound interest is 6288.946267774416\n"
     ]
    }
   ],
   "metadata": {}
  },
  {
   "cell_type": "code",
   "execution_count": 11,
   "source": [
    "#5.\r\n",
    "def List_filter(List):\r\n",
    "    for i in List:\r\n",
    "        if type(i)==int:\r\n",
    "            print(i)\r\n",
    "\r\n",
    "List_filter([1,\"python\",2])"
   ],
   "outputs": [
    {
     "output_type": "stream",
     "name": "stdout",
     "text": [
      "1\n",
      "2\n"
     ]
    }
   ],
   "metadata": {}
  },
  {
   "cell_type": "code",
   "execution_count": null,
   "source": [],
   "outputs": [],
   "metadata": {}
  }
 ],
 "metadata": {
  "orig_nbformat": 4,
  "language_info": {
   "name": "python",
   "version": "3.8.11",
   "mimetype": "text/x-python",
   "codemirror_mode": {
    "name": "ipython",
    "version": 3
   },
   "pygments_lexer": "ipython3",
   "nbconvert_exporter": "python",
   "file_extension": ".py"
  },
  "kernelspec": {
   "name": "python3",
   "display_name": "Python 3.8.11 64-bit ('base': conda)"
  },
  "interpreter": {
   "hash": "c58d10f40f0b856b9f76130d9ed183997b07a9ef1518b907aa0aba494584eb5b"
  }
 },
 "nbformat": 4,
 "nbformat_minor": 2
}