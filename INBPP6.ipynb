{
  "nbformat": 4,
  "nbformat_minor": 0,
  "metadata": {
    "colab": {
      "name": "INBPP6.ipynb",
      "provenance": [],
      "authorship_tag": "ABX9TyMZ34xjXr3+N0d2FPcdhUN6",
      "include_colab_link": true
    },
    "kernelspec": {
      "name": "python3",
      "display_name": "Python 3"
    },
    "language_info": {
      "name": "python"
    }
  },
  "cells": [
    {
      "cell_type": "markdown",
      "metadata": {
        "id": "view-in-github",
        "colab_type": "text"
      },
      "source": [
        "<a href=\"https://colab.research.google.com/github/Vinayak-HUB1/iNpB/blob/main/INBPP6.ipynb\" target=\"_parent\"><img src=\"https://colab.research.google.com/assets/colab-badge.svg\" alt=\"Open In Colab\"/></a>"
      ]
    },
    {
      "cell_type": "code",
      "metadata": {
        "colab": {
          "base_uri": "https://localhost:8080/"
        },
        "id": "8OowDp8xXtbo",
        "outputId": "c8fa5784-fa15-46ef-dcaa-0814eea9af83"
      },
      "source": [
        "\n",
        "def feb(n):\n",
        "    if n<=1:\n",
        "      return n\n",
        "    else:\n",
        "      return (feb(n-1)+feb(n-2))\n",
        "\n",
        "numbers = int(input())\n",
        "if numbers<=0:\n",
        "  print(\"enter a greater positive value\")\n",
        "else:\n",
        "  print(\"feb seq\")\n",
        "  for i in range(numbers):\n",
        "    print(feb(i))\n",
        "\n",
        "\n"
      ],
      "execution_count": 1,
      "outputs": [
        {
          "output_type": "stream",
          "text": [
            "12\n",
            "feb seq\n",
            "0\n",
            "1\n",
            "1\n",
            "2\n",
            "3\n",
            "5\n",
            "8\n",
            "13\n",
            "21\n",
            "34\n",
            "55\n",
            "89\n"
          ],
          "name": "stdout"
        }
      ]
    },
    {
      "cell_type": "code",
      "metadata": {
        "colab": {
          "base_uri": "https://localhost:8080/"
        },
        "id": "0oc4e4TSZGW7",
        "outputId": "a35c2688-c2bd-4d2b-a1bd-c48f08d6da9a"
      },
      "source": [
        "\n",
        "\n",
        "def recur_fac(n):\n",
        "   if n == 1:\n",
        "       return n\n",
        "   else:\n",
        "       return n*recur_fac(n-1)\n",
        "num = 15\n",
        "if num < 0:\n",
        "   print(\"plz enter poistuve int\")\n",
        "elif num == 0:\n",
        "   print(\"The factorial of 0 is 1\")\n",
        "else:\n",
        "   print(\"The factorial of\", num, \"is\", recur_fac(num))\n"
      ],
      "execution_count": 2,
      "outputs": [
        {
          "output_type": "stream",
          "text": [
            "The factorial of 15 is 1307674368000\n"
          ],
          "name": "stdout"
        }
      ]
    },
    {
      "cell_type": "code",
      "metadata": {
        "colab": {
          "base_uri": "https://localhost:8080/"
        },
        "id": "T5IW3wbDdV7t",
        "outputId": "646d9a44-3a06-4be9-c698-f50ee25e9d5b"
      },
      "source": [
        "\n",
        "def BMI(weight,height):\n",
        "  bmi = weight / height**2\n",
        "  return bmi\n",
        "\n",
        "BMI(65,5.7)"
      ],
      "execution_count": 14,
      "outputs": [
        {
          "output_type": "execute_result",
          "data": {
            "text/plain": [
              "2.0006155740227762"
            ]
          },
          "metadata": {
            "tags": []
          },
          "execution_count": 14
        }
      ]
    },
    {
      "cell_type": "code",
      "metadata": {
        "colab": {
          "base_uri": "https://localhost:8080/"
        },
        "id": "KW_Tb17JgKnB",
        "outputId": "203e5bf0-73a1-48f4-e1bd-25f2ba493893"
      },
      "source": [
        "import math\n",
        "intput = float(input(\"enter your no \"))\n",
        "math.log(intput)"
      ],
      "execution_count": 15,
      "outputs": [
        {
          "output_type": "stream",
          "text": [
            "enter your no 12\n"
          ],
          "name": "stdout"
        },
        {
          "output_type": "execute_result",
          "data": {
            "text/plain": [
              "2.4849066497880004"
            ]
          },
          "metadata": {
            "tags": []
          },
          "execution_count": 15
        }
      ]
    },
    {
      "cell_type": "code",
      "metadata": {
        "colab": {
          "base_uri": "https://localhost:8080/"
        },
        "id": "GhLSUsEzg4P6",
        "outputId": "2d311188-a115-4f2e-818e-78d935184712"
      },
      "source": [
        "\n",
        "def sumOfSeries(n):\n",
        "\tx = (n * (n + 1) / 2)\n",
        "\treturn int(x * x)\n",
        "n = 20\n",
        "\n",
        "print(sumOfSeries(n))\n",
        "\n"
      ],
      "execution_count": 16,
      "outputs": [
        {
          "output_type": "stream",
          "text": [
            "44100\n"
          ],
          "name": "stdout"
        }
      ]
    },
    {
      "cell_type": "code",
      "metadata": {
        "id": "DZo3GMq4hY7y"
      },
      "source": [
        ""
      ],
      "execution_count": null,
      "outputs": []
    }
  ]
}