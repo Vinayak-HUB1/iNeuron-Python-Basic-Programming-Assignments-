{
 "cells": [
  {
   "cell_type": "code",
   "execution_count": 6,
   "id": "a579df1b",
   "metadata": {},
   "outputs": [
    {
     "name": "stdout",
     "output_type": "stream",
     "text": [
      "[5, 7, 9, 11, 13]\n",
      "[13, 15, 16, 11, 8]\n",
      "[8, 9, 9, 8, 10]\n"
     ]
    }
   ],
   "source": [
    "#1.\n",
    "matrix1 = [[1,2,3,4,5],\n",
    "           [9,8,7,6,5],\n",
    "           [1,4,5,6,7]]\n",
    "matrix2 = [[4,5,6,7,8],\n",
    "           [4,7,9,5,3],\n",
    "           [7,5,4,2,3]]\n",
    "\n",
    "result = [[0,0,0,0,0],\n",
    "          [0,0,0,0,0],\n",
    "          [0,0,0,0,0]]\n",
    "\n",
    "for i in range(len(matrix1)):\n",
    "    for j in range(len(matrix1[0])):\n",
    "        result[i][j] = matrix1[i][j] + matrix2[i][j]\n",
    "\n",
    "for r in result:\n",
    "    print(r)\n",
    "\n",
    "\n"
   ]
  },
  {
   "cell_type": "code",
   "execution_count": 7,
   "id": "7fa0c70c",
   "metadata": {},
   "outputs": [
    {
     "name": "stdout",
     "output_type": "stream",
     "text": [
      "[4, 10, 18, 28, 40]\n",
      "[36, 56, 63, 30, 15]\n",
      "[7, 20, 20, 12, 21]\n"
     ]
    }
   ],
   "source": [
    "#2.\n",
    "for i in range(len(matrix1)):\n",
    "    for j in range(len(matrix1[0])):\n",
    "        result[i][j] = matrix1[i][j] * matrix2[i][j]\n",
    "\n",
    "for r in result:\n",
    "    print(r)\n"
   ]
  },
  {
   "cell_type": "code",
   "execution_count": 13,
   "id": "4622a080",
   "metadata": {},
   "outputs": [
    {
     "name": "stdout",
     "output_type": "stream",
     "text": [
      "[1, 5]\n",
      "[2, 6]\n",
      "[3, 7]\n",
      "[4, 8]\n"
     ]
    }
   ],
   "source": [
    "#3.\n",
    "matrix = [[1,2,3,4],\n",
    "          [5,6,7,8]]\n",
    "result = [[0,0],\n",
    "          [0,0],\n",
    "          [0,0],\n",
    "          [0,0]]\n",
    "\n",
    "for i in range(len(matrix[0])):\n",
    "    for j in range (len(matrix)):\n",
    "        result[i][j]=matrix[j][i]\n",
    "    \n",
    "for r in result:\n",
    "    print(r)\n",
    "        "
   ]
  },
  {
   "cell_type": "code",
   "execution_count": 24,
   "id": "baa8d8c5",
   "metadata": {},
   "outputs": [
    {
     "name": "stdout",
     "output_type": "stream",
     "text": [
      "academy\n",
      "ai\n",
      "best\n",
      "center\n",
      "currently\n",
      "education\n",
      "ineuron\n",
      "is\n"
     ]
    }
   ],
   "source": [
    "#4.\n",
    "str = \"iNeuron is currently best AI education academy center\"\n",
    "WORDS_LIST = [words.lower() for words in str.split()]\n",
    "WORDS_LIST.sort()\n",
    "for words in WORDS_LIST:\n",
    "    print(words)"
   ]
  },
  {
   "cell_type": "code",
   "execution_count": 28,
   "id": "04f3c195",
   "metadata": {},
   "outputs": [
    {
     "name": "stdout",
     "output_type": "stream",
     "text": [
      "Hello he said and went\n"
     ]
    }
   ],
   "source": [
    "#5.\n",
    "\n",
    "punctuations = '''!()-[]{};:'\"\\,<>./?@#$%^&*_~'''\n",
    "\n",
    "my_str = \"Hello!!!, he said ---and went.\"\n",
    "no_punct = \"\"\n",
    "for char in my_str:\n",
    "   if char not in punctuations:\n",
    "       no_punct = no_punct + char\n",
    "\n",
    "print(no_punct)\n"
   ]
  },
  {
   "cell_type": "code",
   "execution_count": null,
   "id": "0ede75ca",
   "metadata": {},
   "outputs": [],
   "source": []
  }
 ],
 "metadata": {
  "kernelspec": {
   "display_name": "Python 3",
   "language": "python",
   "name": "python3"
  },
  "language_info": {
   "codemirror_mode": {
    "name": "ipython",
    "version": 3
   },
   "file_extension": ".py",
   "mimetype": "text/x-python",
   "name": "python",
   "nbconvert_exporter": "python",
   "pygments_lexer": "ipython3",
   "version": "3.8.5"
  }
 },
 "nbformat": 4,
 "nbformat_minor": 5
}
