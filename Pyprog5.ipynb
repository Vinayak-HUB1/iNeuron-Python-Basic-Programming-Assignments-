{
  "nbformat": 4,
  "nbformat_minor": 0,
  "metadata": {
    "colab": {
      "name": "Pyprog5.ipynb",
      "provenance": [],
      "authorship_tag": "ABX9TyNXFG3WYgk6RqSUipH7vkwY",
      "include_colab_link": true
    },
    "kernelspec": {
      "name": "python3",
      "display_name": "Python 3"
    },
    "language_info": {
      "name": "python"
    }
  },
  "cells": [
    {
      "cell_type": "markdown",
      "metadata": {
        "id": "view-in-github",
        "colab_type": "text"
      },
      "source": [
        "<a href=\"https://colab.research.google.com/github/vinayak-coder95/iNpB/blob/main/Pyprog5.ipynb\" target=\"_parent\"><img src=\"https://colab.research.google.com/assets/colab-badge.svg\" alt=\"Open In Colab\"/></a>"
      ]
    },
    {
      "cell_type": "code",
      "metadata": {
        "id": "95znetF4AR7Q"
      },
      "source": [
        "def LCM(x,y):\n",
        "  if x > y:\n",
        "    x = greater\n",
        "  else:\n",
        "    y = greater\n",
        "  while(True):\n",
        "    if greater % x == 0 and greater % y == 0:\n",
        "      LCM = greater\n",
        "      break\n",
        "      greater=greater + 1\n",
        "  return LCM\n"
      ],
      "execution_count": 12,
      "outputs": []
    },
    {
      "cell_type": "code",
      "metadata": {
        "id": "U_kwly7PBEz1"
      },
      "source": [
        "def HCF(x,y):\n",
        "  if X>Y:\n",
        "    Y=smaller\n",
        "  else:\n",
        "    X = smaller\n",
        "  for i in range(1,smaller+1):\n",
        "    if X%i==0 and Y%i==0:\n",
        "      i = HCF\n",
        "  return HCF"
      ],
      "execution_count": 14,
      "outputs": []
    },
    {
      "cell_type": "code",
      "metadata": {
        "colab": {
          "base_uri": "https://localhost:8080/"
        },
        "id": "lxfZWPEzBPjf",
        "outputId": "e9fb4bdb-1d33-4006-f610-3a55ed1f9ea0"
      },
      "source": [
        "a = int(input())\n",
        "x=oct(a)\n",
        "y=bin(a)\n",
        "z=hex(a)"
      ],
      "execution_count": 16,
      "outputs": [
        {
          "output_type": "stream",
          "text": [
            "600\n"
          ],
          "name": "stdout"
        }
      ]
    },
    {
      "cell_type": "code",
      "metadata": {
        "colab": {
          "base_uri": "https://localhost:8080/"
        },
        "id": "GOC0KD11Fm-G",
        "outputId": "5201a32a-8b8f-48f3-8c47-fb7616c91437"
      },
      "source": [
        "a = \"z\"\n",
        "A = ord(a)\n",
        "print(A)"
      ],
      "execution_count": 19,
      "outputs": [
        {
          "output_type": "stream",
          "text": [
            "122\n"
          ],
          "name": "stdout"
        }
      ]
    },
    {
      "cell_type": "code",
      "metadata": {
        "colab": {
          "base_uri": "https://localhost:8080/"
        },
        "id": "v2mIMjv8F5n9",
        "outputId": "1f6ef62e-4ebd-44b8-dd73-e23eb7646bec"
      },
      "source": [
        "operator = [\"*\",\"/\",\"+\",\"-\"]\n",
        "\n",
        "for O in operator:\n",
        "  print(\"enter the operator\")\n",
        "  O = input()\n",
        "  print(\"enter a value of x\")\n",
        "  x = int(input())\n",
        "  print(\"enter value of y\")\n",
        "  y = int(input())\n",
        "  if O == \"*\":\n",
        "    print(x*y)\n",
        "  elif O == \"/\":\n",
        "    print(x/y)\n",
        "  elif O == \"+\":\n",
        "    print(x+y)\n",
        "  else:\n",
        "    print(x-y)\n",
        "  break\n",
        "    "
      ],
      "execution_count": 31,
      "outputs": [
        {
          "output_type": "stream",
          "text": [
            "enter the operator\n",
            "*\n",
            "enter a value of x\n",
            "12\n",
            "enter value of y\n",
            "3\n",
            "36\n"
          ],
          "name": "stdout"
        }
      ]
    },
    {
      "cell_type": "code",
      "metadata": {
        "colab": {
          "base_uri": "https://localhost:8080/"
        },
        "id": "vGDXFOE9HlQZ",
        "outputId": "aa87e614-7e64-4a8f-ef3f-dec0c5d21474"
      },
      "source": [
        ""
      ],
      "execution_count": 26,
      "outputs": [
        {
          "output_type": "stream",
          "text": [
            "156\n"
          ],
          "name": "stdout"
        }
      ]
    },
    {
      "cell_type": "code",
      "metadata": {
        "id": "ugbEzLlWJKTK"
      },
      "source": [
        ""
      ],
      "execution_count": null,
      "outputs": []
    }
  ]
}