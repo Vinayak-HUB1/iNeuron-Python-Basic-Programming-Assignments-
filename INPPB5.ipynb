{
  "nbformat": 4,
  "nbformat_minor": 0,
  "metadata": {
    "colab": {
      "name": "INPPB5.ipynb",
      "provenance": []
    },
    "kernelspec": {
      "name": "python3",
      "display_name": "Python 3"
    },
    "language_info": {
      "name": "python"
    }
  },
  "cells": [
    {
      "cell_type": "code",
      "metadata": {
        "colab": {
          "base_uri": "https://localhost:8080/"
        },
        "id": "NFFGjSjH1wkK",
        "outputId": "3b9cf1d6-aeae-467e-e605-c2e3774368d5"
      },
      "source": [
        "factorial = 1\n",
        "num = int(input())\n",
        "for i in range(1,num+1):\n",
        "  factorial = factorial*i\n",
        "  print(factorial)\n",
        "  "
      ],
      "execution_count": null,
      "outputs": [
        {
          "output_type": "stream",
          "text": [
            "7\n",
            "1\n",
            "2\n",
            "6\n",
            "24\n",
            "120\n",
            "720\n",
            "5040\n"
          ],
          "name": "stdout"
        }
      ]
    },
    {
      "cell_type": "code",
      "metadata": {
        "colab": {
          "base_uri": "https://localhost:8080/"
        },
        "id": "T9__A46_2uUN",
        "outputId": "f6627421-181d-4d99-e05e-b5e9b615ef71"
      },
      "source": [
        "num1 = int(input())\n",
        "for i in range(1,11):\n",
        "  mul = num1*i\n",
        "  print(mul)\n"
      ],
      "execution_count": null,
      "outputs": [
        {
          "output_type": "stream",
          "text": [
            "2\n",
            "4\n",
            "6\n",
            "8\n",
            "10\n",
            "12\n",
            "14\n",
            "16\n",
            "18\n",
            "20\n"
          ],
          "name": "stdout"
        }
      ]
    },
    {
      "cell_type": "code",
      "metadata": {
        "colab": {
          "base_uri": "https://localhost:8080/"
        },
        "id": "ipZCi_6f5f05",
        "outputId": "1e72958b-17c5-471f-b7cc-e6d452c314f7"
      },
      "source": [
        "nterms = int(input(\"How many terms you want? \"))  \n",
        "# first two terms  \n",
        "n1 = 0  \n",
        "n2 = 1  \n",
        "count = 2  \n",
        "# check if the number of terms is valid  \n",
        "if nterms <= 0:  \n",
        "   print(\"Plese enter a positive integer\")  \n",
        "elif nterms == 1:  \n",
        "   print(\"Fibonacci sequence:\")  \n",
        "   print(n1)  \n",
        "else:  \n",
        "   print(\"Fibonacci sequence:\")  \n",
        "   print(n1,\",\",n2,end=', ')  \n",
        "   while count < nterms:  \n",
        "       nth = n1 + n2  \n",
        "       print(nth,end=' , ')  \n",
        "       # update values  \n",
        "       n1 = n2  \n",
        "       n2 = nth  \n",
        "       count += 1  "
      ],
      "execution_count": null,
      "outputs": [
        {
          "output_type": "stream",
          "text": [
            "How many terms you want? 3\n",
            "Fibonacci sequence:\n",
            "0 , 1, 1 , "
          ],
          "name": "stdout"
        }
      ]
    },
    {
      "cell_type": "code",
      "metadata": {
        "colab": {
          "base_uri": "https://localhost:8080/",
          "height": 248
        },
        "id": "xUyLQ8Jy7eQ3",
        "outputId": "236633fe-3341-4b99-e6cb-ac0aeb9e198e"
      },
      "source": [
        "# Python program to check if the number is an Armstrong number or not\n",
        "\n",
        "# take input from the user\n",
        "num = int(input(\"Enter a number: \"))\n",
        "\n",
        "# initialize sum\n",
        "sum = 0\n",
        "\n",
        "# find the sum of the cube of each digit\n",
        "temp = num\n",
        "while temp > 0:\n",
        "   digit = temp % 10\n",
        "   sum += digit ** 3\n",
        "   digit //= 10\n",
        "\n",
        "# display the result\n",
        "if num == sum:\n",
        "   print(num,\"is an Armstrong number\")\n",
        "else:\n",
        "   print(num,\"is not an Armstrong number\")"
      ],
      "execution_count": null,
      "outputs": [
        {
          "output_type": "stream",
          "text": [
            "Enter a number: 123\n"
          ],
          "name": "stdout"
        },
        {
          "output_type": "error",
          "ename": "KeyboardInterrupt",
          "evalue": "ignored",
          "traceback": [
            "\u001b[0;31m---------------------------------------------------------------------------\u001b[0m",
            "\u001b[0;31mKeyboardInterrupt\u001b[0m                         Traceback (most recent call last)",
            "\u001b[0;32m<ipython-input-20-6cd47051c34b>\u001b[0m in \u001b[0;36m<module>\u001b[0;34m()\u001b[0m\n\u001b[1;32m     11\u001b[0m \u001b[0;32mwhile\u001b[0m \u001b[0mtemp\u001b[0m \u001b[0;34m>\u001b[0m \u001b[0;36m0\u001b[0m\u001b[0;34m:\u001b[0m\u001b[0;34m\u001b[0m\u001b[0;34m\u001b[0m\u001b[0m\n\u001b[1;32m     12\u001b[0m    \u001b[0mdigit\u001b[0m \u001b[0;34m=\u001b[0m \u001b[0mtemp\u001b[0m \u001b[0;34m%\u001b[0m \u001b[0;36m10\u001b[0m\u001b[0;34m\u001b[0m\u001b[0;34m\u001b[0m\u001b[0m\n\u001b[0;32m---> 13\u001b[0;31m    \u001b[0msum\u001b[0m \u001b[0;34m+=\u001b[0m \u001b[0mdigit\u001b[0m \u001b[0;34m**\u001b[0m \u001b[0;36m3\u001b[0m\u001b[0;34m\u001b[0m\u001b[0;34m\u001b[0m\u001b[0m\n\u001b[0m\u001b[1;32m     14\u001b[0m    \u001b[0mdigit\u001b[0m \u001b[0;34m//=\u001b[0m \u001b[0;36m10\u001b[0m\u001b[0;34m\u001b[0m\u001b[0;34m\u001b[0m\u001b[0m\n\u001b[1;32m     15\u001b[0m \u001b[0;34m\u001b[0m\u001b[0m\n",
            "\u001b[0;31mKeyboardInterrupt\u001b[0m: "
          ]
        }
      ]
    },
    {
      "cell_type": "code",
      "metadata": {
        "colab": {
          "base_uri": "https://localhost:8080/",
          "height": 231
        },
        "id": "Xt3YwPic8op2",
        "outputId": "0add1841-fe62-4470-9f65-c40d958d592f"
      },
      "source": [
        "num1 = 100\n",
        "num2 = 1000\n",
        "order= len(str(num))\n",
        "sum = 0\n",
        "num=temp\n",
        "for num in range(num1,num2):\n",
        "  while temp > 0:\n",
        "    digit = temp % 10\n",
        "    sum = sum + digit**order\n",
        "    temp // 10\n",
        "\n",
        "if num == sum:\n",
        "  print(num)\n",
        "\n"
      ],
      "execution_count": null,
      "outputs": [
        {
          "output_type": "error",
          "ename": "KeyboardInterrupt",
          "evalue": "ignored",
          "traceback": [
            "\u001b[0;31m---------------------------------------------------------------------------\u001b[0m",
            "\u001b[0;31mKeyboardInterrupt\u001b[0m                         Traceback (most recent call last)",
            "\u001b[0;32m<ipython-input-24-d7678d02090b>\u001b[0m in \u001b[0;36m<module>\u001b[0;34m()\u001b[0m\n\u001b[1;32m      8\u001b[0m     \u001b[0mdigit\u001b[0m \u001b[0;34m=\u001b[0m \u001b[0mtemp\u001b[0m \u001b[0;34m%\u001b[0m \u001b[0;36m10\u001b[0m\u001b[0;34m\u001b[0m\u001b[0;34m\u001b[0m\u001b[0m\n\u001b[1;32m      9\u001b[0m     \u001b[0msum\u001b[0m \u001b[0;34m=\u001b[0m \u001b[0msum\u001b[0m \u001b[0;34m+\u001b[0m \u001b[0mdigit\u001b[0m\u001b[0;34m**\u001b[0m\u001b[0morder\u001b[0m\u001b[0;34m\u001b[0m\u001b[0;34m\u001b[0m\u001b[0m\n\u001b[0;32m---> 10\u001b[0;31m     \u001b[0mtemp\u001b[0m \u001b[0;34m//\u001b[0m \u001b[0;36m10\u001b[0m\u001b[0;34m\u001b[0m\u001b[0;34m\u001b[0m\u001b[0m\n\u001b[0m\u001b[1;32m     11\u001b[0m \u001b[0;34m\u001b[0m\u001b[0m\n\u001b[1;32m     12\u001b[0m \u001b[0;32mif\u001b[0m \u001b[0mnum\u001b[0m \u001b[0;34m==\u001b[0m \u001b[0msum\u001b[0m\u001b[0;34m:\u001b[0m\u001b[0;34m\u001b[0m\u001b[0;34m\u001b[0m\u001b[0m\n",
            "\u001b[0;31mKeyboardInterrupt\u001b[0m: "
          ]
        }
      ]
    },
    {
      "cell_type": "code",
      "metadata": {
        "colab": {
          "base_uri": "https://localhost:8080/"
        },
        "id": "NGvdsgh5-0Rb",
        "outputId": "e5971231-b92b-4a4f-c052-4314a6ec912a"
      },
      "source": [
        "num = 50\n",
        "if num < 0:\n",
        "   print(\"Enter a positive number\")\n",
        "else:\n",
        "   sum = 0\n",
        "   while(num > 0):\n",
        "       sum += num\n",
        "       num -= 1\n",
        "   print(\"The sum is\", sum)"
      ],
      "execution_count": null,
      "outputs": [
        {
          "output_type": "stream",
          "text": [
            "The sum is 1275\n"
          ],
          "name": "stdout"
        }
      ]
    },
    {
      "cell_type": "code",
      "metadata": {
        "id": "O7nk08tKDPFq"
      },
      "source": [
        ""
      ],
      "execution_count": null,
      "outputs": []
    }
  ]
}